{
 "cells": [
  {
   "cell_type": "code",
   "execution_count": null,
   "metadata": {},
   "outputs": [],
   "source": [
    "import sys\n",
    "sys.version"
   ]
  },
  {
   "cell_type": "code",
   "execution_count": null,
   "metadata": {},
   "outputs": [],
   "source": [
    "%%writefile BQ_GetQueryResultToLocal.py\n",
    "\n",
    "## Get Data From BQ\n",
    "\n",
    "## install pandas-gbq package; command: pip3 install pandas-gbq\n",
    "import pandas as pd\n",
    "\n",
    "def Exec_BQ(query, projectid):\n",
    "    return pd.io.gbq.read_gbq(query, project_id=projectid, index_col=None, col_order=None, reauth=False, \\\n",
    "                              private_key=None)\n",
    "\n",
    "project_id =  'moonshot-223910'#'project--demo'\n",
    "query = '''\n",
    "Select \n",
    "  Sex,\n",
    "  Count(1) as PassengerCount,\n",
    "  Sum(Age)/Count(1) as AverageAge,\n",
    "  Sum(Fare)/Count(1) as AverageFare,\n",
    "  sum(case when Survived == 0 then 1 else 0 end) as PassengerDied,\n",
    "  sum(case when Survived == 1 then 1 else 0 end) as PassengerSurvived,\n",
    "From\n",
    "  TABLE_QUERY([moonshot-223910.BankAccounts], 'table_id like \"Test_TitanicTr%\"')\n",
    "Group by\n",
    "  Sex\n",
    "'''\n",
    "# TABLE_QUERY([project--demo.DemoData], 'table_id like \"titainc_train\"')\n",
    "  \n",
    "DF = Exec_BQ(query, project_id)\n",
    "print('Dataframe Shape :', DF.shape)\n",
    "display(DF)"
   ]
  },
  {
   "cell_type": "code",
   "execution_count": null,
   "metadata": {
    "scrolled": true
   },
   "outputs": [],
   "source": [
    "%%writefile BQ_QueryResultUploadToBQ.py\n",
    "## Save Data in BQ\n",
    "\n",
    "## Firstly in BQ create a dataset named \"UploadDataTest\"\n",
    "destTable = 'UploadDataTest.BasicResultUpload'\n",
    "project_id =  'moonshot-223910'#'project--demo'\n",
    "query = '''\n",
    "Select \n",
    "  Sex,\n",
    "  Count(1) as PassengerCount,\n",
    "  Sum(Age)/Count(1) as AverageAge,\n",
    "  Sum(Fare)/Count(1) as AverageFare,\n",
    "  sum(case when Survived == 0 then 1 else 0 end) as PassengerDied,\n",
    "  sum(case when Survived == 1 then 1 else 0 end) as PassengerSurvived,\n",
    "From\n",
    "  TABLE_QUERY([moonshot-223910.BankAccounts], 'table_id like \"Test_TitanicTr%\"')\n",
    "Group by\n",
    "  Sex\n",
    "'''\n",
    "# TABLE_QUERY([project--demo.DemoData], 'table_id like \"titainc_train\"')\n",
    "query = ' '.join(query.split('\\n'))\n",
    "## \" should be converted to \\\" around table be like\n",
    "\n",
    "\n",
    "terminalCommand = r\"\"\"bq --project_id {projectId} --nosync query --batch -q --destination_table '{destinationTable}' --allow_large_results \"{queryTxt}\" \"\"\".format(projectId = project_id, destinationTable = destTable, queryTxt = query)\n",
    "terminalCommand = terminalCommand.replace('like \"', 'like \\\\\"').replace('''\"\\'''', '''\\\\\"\\'''') #\"\\u\".join(txt.split('u'))\n",
    "print(terminalCommand)\n",
    "## the printed commannd needs to be run from terminal to achieve this follow the steps mentioned  below. (can also proceede  by creating a .sh file)\n",
    "#Step1. sudo python BQ_QueryResultUploadToBQ.py > commandToRun.txt\n",
    "#Step2. sudo chmod +x commandToRun.txt > commandToRun.txt.log\n",
    "#Step3. sudo commandToRun.txt"
   ]
  },
  {
   "cell_type": "code",
   "execution_count": null,
   "metadata": {},
   "outputs": [],
   "source": []
  }
 ],
 "metadata": {
  "kernelspec": {
   "display_name": "MyProjectVirEnv",
   "language": "python",
   "name": "myprojectvirenv"
  },
  "language_info": {
   "codemirror_mode": {
    "name": "ipython",
    "version": 3
   },
   "file_extension": ".py",
   "mimetype": "text/x-python",
   "name": "python",
   "nbconvert_exporter": "python",
   "pygments_lexer": "ipython3",
   "version": "3.6.5"
  }
 },
 "nbformat": 4,
 "nbformat_minor": 2
}
